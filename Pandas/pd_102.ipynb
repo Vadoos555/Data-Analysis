{
 "cells": [
  {
   "cell_type": "code",
   "execution_count": 1,
   "id": "af4968d9-0c53-4ffb-8c95-6def97995a07",
   "metadata": {},
   "outputs": [],
   "source": [
    "import pandas as pd"
   ]
  },
  {
   "cell_type": "code",
   "execution_count": 2,
   "id": "167c4035-dec5-45ed-ad1b-f822cb61cc78",
   "metadata": {},
   "outputs": [],
   "source": [
    "people = {\n",
    "    \"first\": [\"Bob\", 'Jane', 'John', 'Vadim', 'Jackie', 'Bruce'], \n",
    "    \"last\": [\"Schafer\", 'Doss', 'Doe', 'Smart', 'Chan', 'Lee'], \n",
    "    \"email\": [\"Bob@email.com\", 'Jane@email.com', 'John@email.com', 'Vadim@email.com', 'Jackie@email.net', 'Bruce@email.net']\n",
    "}"
   ]
  },
  {
   "cell_type": "code",
   "execution_count": 3,
   "id": "1bda4bfa-6f9b-4650-9629-8488e50fd6f3",
   "metadata": {},
   "outputs": [
    {
     "data": {
      "text/html": [
       "<div>\n",
       "<style scoped>\n",
       "    .dataframe tbody tr th:only-of-type {\n",
       "        vertical-align: middle;\n",
       "    }\n",
       "\n",
       "    .dataframe tbody tr th {\n",
       "        vertical-align: top;\n",
       "    }\n",
       "\n",
       "    .dataframe thead th {\n",
       "        text-align: right;\n",
       "    }\n",
       "</style>\n",
       "<table border=\"1\" class=\"dataframe\">\n",
       "  <thead>\n",
       "    <tr style=\"text-align: right;\">\n",
       "      <th></th>\n",
       "      <th>first</th>\n",
       "      <th>last</th>\n",
       "      <th>email</th>\n",
       "    </tr>\n",
       "  </thead>\n",
       "  <tbody>\n",
       "    <tr>\n",
       "      <th>0</th>\n",
       "      <td>Bob</td>\n",
       "      <td>Schafer</td>\n",
       "      <td>Bob@email.com</td>\n",
       "    </tr>\n",
       "    <tr>\n",
       "      <th>1</th>\n",
       "      <td>Jane</td>\n",
       "      <td>Doss</td>\n",
       "      <td>Jane@email.com</td>\n",
       "    </tr>\n",
       "    <tr>\n",
       "      <th>2</th>\n",
       "      <td>John</td>\n",
       "      <td>Doe</td>\n",
       "      <td>John@email.com</td>\n",
       "    </tr>\n",
       "    <tr>\n",
       "      <th>3</th>\n",
       "      <td>Vadim</td>\n",
       "      <td>Smart</td>\n",
       "      <td>Vadim@email.com</td>\n",
       "    </tr>\n",
       "    <tr>\n",
       "      <th>4</th>\n",
       "      <td>Jackie</td>\n",
       "      <td>Chan</td>\n",
       "      <td>Jackie@email.net</td>\n",
       "    </tr>\n",
       "    <tr>\n",
       "      <th>5</th>\n",
       "      <td>Bruce</td>\n",
       "      <td>Lee</td>\n",
       "      <td>Bruce@email.net</td>\n",
       "    </tr>\n",
       "  </tbody>\n",
       "</table>\n",
       "</div>"
      ],
      "text/plain": [
       "    first     last             email\n",
       "0     Bob  Schafer     Bob@email.com\n",
       "1    Jane     Doss    Jane@email.com\n",
       "2    John      Doe    John@email.com\n",
       "3   Vadim    Smart   Vadim@email.com\n",
       "4  Jackie     Chan  Jackie@email.net\n",
       "5   Bruce      Lee   Bruce@email.net"
      ]
     },
     "execution_count": 3,
     "metadata": {},
     "output_type": "execute_result"
    }
   ],
   "source": [
    "df = pd.DataFrame(people)\n",
    "df"
   ]
  },
  {
   "cell_type": "code",
   "execution_count": 4,
   "id": "2a10cd24-e7e4-4a57-a908-22e5bcf73d8c",
   "metadata": {},
   "outputs": [
    {
     "data": {
      "text/plain": [
       "0       Bob@email.com\n",
       "1      Jane@email.com\n",
       "2      John@email.com\n",
       "3     Vadim@email.com\n",
       "4    Jackie@email.net\n",
       "5     Bruce@email.net\n",
       "Name: email, dtype: object"
      ]
     },
     "execution_count": 4,
     "metadata": {},
     "output_type": "execute_result"
    }
   ],
   "source": [
    "df['email']"
   ]
  },
  {
   "cell_type": "code",
   "execution_count": 5,
   "id": "46385722-d61c-4235-a6fd-952275999039",
   "metadata": {},
   "outputs": [
    {
     "data": {
      "text/html": [
       "<div>\n",
       "<style scoped>\n",
       "    .dataframe tbody tr th:only-of-type {\n",
       "        vertical-align: middle;\n",
       "    }\n",
       "\n",
       "    .dataframe tbody tr th {\n",
       "        vertical-align: top;\n",
       "    }\n",
       "\n",
       "    .dataframe thead th {\n",
       "        text-align: right;\n",
       "    }\n",
       "</style>\n",
       "<table border=\"1\" class=\"dataframe\">\n",
       "  <thead>\n",
       "    <tr style=\"text-align: right;\">\n",
       "      <th></th>\n",
       "      <th>first</th>\n",
       "      <th>last</th>\n",
       "    </tr>\n",
       "    <tr>\n",
       "      <th>email</th>\n",
       "      <th></th>\n",
       "      <th></th>\n",
       "    </tr>\n",
       "  </thead>\n",
       "  <tbody>\n",
       "    <tr>\n",
       "      <th>Bob@email.com</th>\n",
       "      <td>Bob</td>\n",
       "      <td>Schafer</td>\n",
       "    </tr>\n",
       "    <tr>\n",
       "      <th>Jane@email.com</th>\n",
       "      <td>Jane</td>\n",
       "      <td>Doss</td>\n",
       "    </tr>\n",
       "    <tr>\n",
       "      <th>John@email.com</th>\n",
       "      <td>John</td>\n",
       "      <td>Doe</td>\n",
       "    </tr>\n",
       "    <tr>\n",
       "      <th>Vadim@email.com</th>\n",
       "      <td>Vadim</td>\n",
       "      <td>Smart</td>\n",
       "    </tr>\n",
       "    <tr>\n",
       "      <th>Jackie@email.net</th>\n",
       "      <td>Jackie</td>\n",
       "      <td>Chan</td>\n",
       "    </tr>\n",
       "    <tr>\n",
       "      <th>Bruce@email.net</th>\n",
       "      <td>Bruce</td>\n",
       "      <td>Lee</td>\n",
       "    </tr>\n",
       "  </tbody>\n",
       "</table>\n",
       "</div>"
      ],
      "text/plain": [
       "                   first     last\n",
       "email                            \n",
       "Bob@email.com        Bob  Schafer\n",
       "Jane@email.com      Jane     Doss\n",
       "John@email.com      John      Doe\n",
       "Vadim@email.com    Vadim    Smart\n",
       "Jackie@email.net  Jackie     Chan\n",
       "Bruce@email.net    Bruce      Lee"
      ]
     },
     "execution_count": 5,
     "metadata": {},
     "output_type": "execute_result"
    }
   ],
   "source": [
    "df.set_index('email')"
   ]
  },
  {
   "cell_type": "code",
   "execution_count": 6,
   "id": "02e9a7c1-dd67-4f3c-8484-c572f7c5a897",
   "metadata": {},
   "outputs": [
    {
     "data": {
      "text/html": [
       "<div>\n",
       "<style scoped>\n",
       "    .dataframe tbody tr th:only-of-type {\n",
       "        vertical-align: middle;\n",
       "    }\n",
       "\n",
       "    .dataframe tbody tr th {\n",
       "        vertical-align: top;\n",
       "    }\n",
       "\n",
       "    .dataframe thead th {\n",
       "        text-align: right;\n",
       "    }\n",
       "</style>\n",
       "<table border=\"1\" class=\"dataframe\">\n",
       "  <thead>\n",
       "    <tr style=\"text-align: right;\">\n",
       "      <th></th>\n",
       "      <th>first</th>\n",
       "      <th>last</th>\n",
       "      <th>email</th>\n",
       "    </tr>\n",
       "  </thead>\n",
       "  <tbody>\n",
       "    <tr>\n",
       "      <th>0</th>\n",
       "      <td>Bob</td>\n",
       "      <td>Schafer</td>\n",
       "      <td>Bob@email.com</td>\n",
       "    </tr>\n",
       "    <tr>\n",
       "      <th>1</th>\n",
       "      <td>Jane</td>\n",
       "      <td>Doss</td>\n",
       "      <td>Jane@email.com</td>\n",
       "    </tr>\n",
       "    <tr>\n",
       "      <th>2</th>\n",
       "      <td>John</td>\n",
       "      <td>Doe</td>\n",
       "      <td>John@email.com</td>\n",
       "    </tr>\n",
       "    <tr>\n",
       "      <th>3</th>\n",
       "      <td>Vadim</td>\n",
       "      <td>Smart</td>\n",
       "      <td>Vadim@email.com</td>\n",
       "    </tr>\n",
       "    <tr>\n",
       "      <th>4</th>\n",
       "      <td>Jackie</td>\n",
       "      <td>Chan</td>\n",
       "      <td>Jackie@email.net</td>\n",
       "    </tr>\n",
       "    <tr>\n",
       "      <th>5</th>\n",
       "      <td>Bruce</td>\n",
       "      <td>Lee</td>\n",
       "      <td>Bruce@email.net</td>\n",
       "    </tr>\n",
       "  </tbody>\n",
       "</table>\n",
       "</div>"
      ],
      "text/plain": [
       "    first     last             email\n",
       "0     Bob  Schafer     Bob@email.com\n",
       "1    Jane     Doss    Jane@email.com\n",
       "2    John      Doe    John@email.com\n",
       "3   Vadim    Smart   Vadim@email.com\n",
       "4  Jackie     Chan  Jackie@email.net\n",
       "5   Bruce      Lee   Bruce@email.net"
      ]
     },
     "execution_count": 6,
     "metadata": {},
     "output_type": "execute_result"
    }
   ],
   "source": [
    "df"
   ]
  },
  {
   "cell_type": "code",
   "execution_count": 7,
   "id": "0b74e38e-9b1a-4bb4-9ef4-bf139fdd8510",
   "metadata": {},
   "outputs": [],
   "source": [
    "df.set_index('email', inplace=True)"
   ]
  },
  {
   "cell_type": "code",
   "execution_count": 8,
   "id": "1b9972d3-5166-4455-b351-2aded56f5c05",
   "metadata": {},
   "outputs": [
    {
     "data": {
      "text/html": [
       "<div>\n",
       "<style scoped>\n",
       "    .dataframe tbody tr th:only-of-type {\n",
       "        vertical-align: middle;\n",
       "    }\n",
       "\n",
       "    .dataframe tbody tr th {\n",
       "        vertical-align: top;\n",
       "    }\n",
       "\n",
       "    .dataframe thead th {\n",
       "        text-align: right;\n",
       "    }\n",
       "</style>\n",
       "<table border=\"1\" class=\"dataframe\">\n",
       "  <thead>\n",
       "    <tr style=\"text-align: right;\">\n",
       "      <th></th>\n",
       "      <th>first</th>\n",
       "      <th>last</th>\n",
       "    </tr>\n",
       "    <tr>\n",
       "      <th>email</th>\n",
       "      <th></th>\n",
       "      <th></th>\n",
       "    </tr>\n",
       "  </thead>\n",
       "  <tbody>\n",
       "    <tr>\n",
       "      <th>Bob@email.com</th>\n",
       "      <td>Bob</td>\n",
       "      <td>Schafer</td>\n",
       "    </tr>\n",
       "    <tr>\n",
       "      <th>Jane@email.com</th>\n",
       "      <td>Jane</td>\n",
       "      <td>Doss</td>\n",
       "    </tr>\n",
       "    <tr>\n",
       "      <th>John@email.com</th>\n",
       "      <td>John</td>\n",
       "      <td>Doe</td>\n",
       "    </tr>\n",
       "    <tr>\n",
       "      <th>Vadim@email.com</th>\n",
       "      <td>Vadim</td>\n",
       "      <td>Smart</td>\n",
       "    </tr>\n",
       "    <tr>\n",
       "      <th>Jackie@email.net</th>\n",
       "      <td>Jackie</td>\n",
       "      <td>Chan</td>\n",
       "    </tr>\n",
       "    <tr>\n",
       "      <th>Bruce@email.net</th>\n",
       "      <td>Bruce</td>\n",
       "      <td>Lee</td>\n",
       "    </tr>\n",
       "  </tbody>\n",
       "</table>\n",
       "</div>"
      ],
      "text/plain": [
       "                   first     last\n",
       "email                            \n",
       "Bob@email.com        Bob  Schafer\n",
       "Jane@email.com      Jane     Doss\n",
       "John@email.com      John      Doe\n",
       "Vadim@email.com    Vadim    Smart\n",
       "Jackie@email.net  Jackie     Chan\n",
       "Bruce@email.net    Bruce      Lee"
      ]
     },
     "execution_count": 8,
     "metadata": {},
     "output_type": "execute_result"
    }
   ],
   "source": [
    "df"
   ]
  },
  {
   "cell_type": "code",
   "execution_count": 9,
   "id": "587db58b-3b82-4faa-a01a-321044faf10b",
   "metadata": {},
   "outputs": [
    {
     "data": {
      "text/plain": [
       "Index(['Bob@email.com', 'Jane@email.com', 'John@email.com', 'Vadim@email.com',\n",
       "       'Jackie@email.net', 'Bruce@email.net'],\n",
       "      dtype='object', name='email')"
      ]
     },
     "execution_count": 9,
     "metadata": {},
     "output_type": "execute_result"
    }
   ],
   "source": [
    "df.index"
   ]
  },
  {
   "cell_type": "code",
   "execution_count": 10,
   "id": "02dd1de1-8a4e-4d56-80ff-80dd9c156276",
   "metadata": {},
   "outputs": [
    {
     "data": {
      "text/plain": [
       "first    Vadim\n",
       "last     Smart\n",
       "Name: Vadim@email.com, dtype: object"
      ]
     },
     "execution_count": 10,
     "metadata": {},
     "output_type": "execute_result"
    }
   ],
   "source": [
    "df.loc['Vadim@email.com']"
   ]
  },
  {
   "cell_type": "code",
   "execution_count": 11,
   "id": "fd0d651f-b784-4d57-be70-39393bc41cab",
   "metadata": {},
   "outputs": [
    {
     "data": {
      "text/plain": [
       "'Vadim'"
      ]
     },
     "execution_count": 11,
     "metadata": {},
     "output_type": "execute_result"
    }
   ],
   "source": [
    "df.loc['Vadim@email.com', 'first']"
   ]
  },
  {
   "cell_type": "code",
   "execution_count": 13,
   "id": "e7c43ed0-f0dd-412d-a88d-1e61980f1cb2",
   "metadata": {},
   "outputs": [
    {
     "data": {
      "text/plain": [
       "first    Bruce\n",
       "last       Lee\n",
       "Name: Bruce@email.net, dtype: object"
      ]
     },
     "execution_count": 13,
     "metadata": {},
     "output_type": "execute_result"
    }
   ],
   "source": [
    "df.iloc[5]"
   ]
  },
  {
   "cell_type": "code",
   "execution_count": 14,
   "id": "322b978f-b631-4765-a4aa-bde9fca51a5e",
   "metadata": {},
   "outputs": [
    {
     "data": {
      "text/html": [
       "<div>\n",
       "<style scoped>\n",
       "    .dataframe tbody tr th:only-of-type {\n",
       "        vertical-align: middle;\n",
       "    }\n",
       "\n",
       "    .dataframe tbody tr th {\n",
       "        vertical-align: top;\n",
       "    }\n",
       "\n",
       "    .dataframe thead th {\n",
       "        text-align: right;\n",
       "    }\n",
       "</style>\n",
       "<table border=\"1\" class=\"dataframe\">\n",
       "  <thead>\n",
       "    <tr style=\"text-align: right;\">\n",
       "      <th></th>\n",
       "      <th>email</th>\n",
       "      <th>first</th>\n",
       "      <th>last</th>\n",
       "    </tr>\n",
       "  </thead>\n",
       "  <tbody>\n",
       "    <tr>\n",
       "      <th>0</th>\n",
       "      <td>Bob@email.com</td>\n",
       "      <td>Bob</td>\n",
       "      <td>Schafer</td>\n",
       "    </tr>\n",
       "    <tr>\n",
       "      <th>1</th>\n",
       "      <td>Jane@email.com</td>\n",
       "      <td>Jane</td>\n",
       "      <td>Doss</td>\n",
       "    </tr>\n",
       "    <tr>\n",
       "      <th>2</th>\n",
       "      <td>John@email.com</td>\n",
       "      <td>John</td>\n",
       "      <td>Doe</td>\n",
       "    </tr>\n",
       "    <tr>\n",
       "      <th>3</th>\n",
       "      <td>Vadim@email.com</td>\n",
       "      <td>Vadim</td>\n",
       "      <td>Smart</td>\n",
       "    </tr>\n",
       "    <tr>\n",
       "      <th>4</th>\n",
       "      <td>Jackie@email.net</td>\n",
       "      <td>Jackie</td>\n",
       "      <td>Chan</td>\n",
       "    </tr>\n",
       "    <tr>\n",
       "      <th>5</th>\n",
       "      <td>Bruce@email.net</td>\n",
       "      <td>Bruce</td>\n",
       "      <td>Lee</td>\n",
       "    </tr>\n",
       "  </tbody>\n",
       "</table>\n",
       "</div>"
      ],
      "text/plain": [
       "              email   first     last\n",
       "0     Bob@email.com     Bob  Schafer\n",
       "1    Jane@email.com    Jane     Doss\n",
       "2    John@email.com    John      Doe\n",
       "3   Vadim@email.com   Vadim    Smart\n",
       "4  Jackie@email.net  Jackie     Chan\n",
       "5   Bruce@email.net   Bruce      Lee"
      ]
     },
     "execution_count": 14,
     "metadata": {},
     "output_type": "execute_result"
    }
   ],
   "source": [
    "df.reset_index(inplace=True)\n",
    "df"
   ]
  },
  {
   "cell_type": "code",
   "execution_count": null,
   "id": "bbaecb6e-65f1-4281-a0e5-7834a4b8f779",
   "metadata": {},
   "outputs": [],
   "source": []
  }
 ],
 "metadata": {
  "kernelspec": {
   "display_name": "Python 3 (ipykernel)",
   "language": "python",
   "name": "python3"
  },
  "language_info": {
   "codemirror_mode": {
    "name": "ipython",
    "version": 3
   },
   "file_extension": ".py",
   "mimetype": "text/x-python",
   "name": "python",
   "nbconvert_exporter": "python",
   "pygments_lexer": "ipython3",
   "version": "3.11.1"
  }
 },
 "nbformat": 4,
 "nbformat_minor": 5
}
