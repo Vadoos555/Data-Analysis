{
 "cells": [
  {
   "cell_type": "code",
   "execution_count": 1,
   "id": "76d541cf-117d-4127-8ad9-dd94a19ab397",
   "metadata": {},
   "outputs": [],
   "source": [
    "import numpy as np\n",
    "import pandas as pd"
   ]
  },
  {
   "cell_type": "code",
   "execution_count": 2,
   "id": "edbc9c30-0978-4a50-b1cc-0809bc3f7998",
   "metadata": {},
   "outputs": [],
   "source": [
    "df = pd.DataFrame(np.random.randn(4, 5), [1, 2, 3, 4],\n",
    "                 ['red', 'orange', 'yellow', 'green', 'blue'])"
   ]
  },
  {
   "cell_type": "code",
   "execution_count": 3,
   "id": "0da05008-e874-405c-91f0-e3f988ca11a2",
   "metadata": {},
   "outputs": [
    {
     "data": {
      "text/html": [
       "<div>\n",
       "<style scoped>\n",
       "    .dataframe tbody tr th:only-of-type {\n",
       "        vertical-align: middle;\n",
       "    }\n",
       "\n",
       "    .dataframe tbody tr th {\n",
       "        vertical-align: top;\n",
       "    }\n",
       "\n",
       "    .dataframe thead th {\n",
       "        text-align: right;\n",
       "    }\n",
       "</style>\n",
       "<table border=\"1\" class=\"dataframe\">\n",
       "  <thead>\n",
       "    <tr style=\"text-align: right;\">\n",
       "      <th></th>\n",
       "      <th>red</th>\n",
       "      <th>orange</th>\n",
       "      <th>yellow</th>\n",
       "      <th>green</th>\n",
       "      <th>blue</th>\n",
       "    </tr>\n",
       "  </thead>\n",
       "  <tbody>\n",
       "    <tr>\n",
       "      <th>1</th>\n",
       "      <td>-1.939544</td>\n",
       "      <td>1.360894</td>\n",
       "      <td>1.277437</td>\n",
       "      <td>1.933686</td>\n",
       "      <td>-0.699491</td>\n",
       "    </tr>\n",
       "    <tr>\n",
       "      <th>2</th>\n",
       "      <td>1.201424</td>\n",
       "      <td>-0.233669</td>\n",
       "      <td>-0.768068</td>\n",
       "      <td>-0.168097</td>\n",
       "      <td>-0.731023</td>\n",
       "    </tr>\n",
       "    <tr>\n",
       "      <th>3</th>\n",
       "      <td>1.138072</td>\n",
       "      <td>-0.277206</td>\n",
       "      <td>1.821640</td>\n",
       "      <td>-0.109756</td>\n",
       "      <td>0.258063</td>\n",
       "    </tr>\n",
       "    <tr>\n",
       "      <th>4</th>\n",
       "      <td>-0.646091</td>\n",
       "      <td>0.846284</td>\n",
       "      <td>0.188196</td>\n",
       "      <td>0.123120</td>\n",
       "      <td>1.838854</td>\n",
       "    </tr>\n",
       "  </tbody>\n",
       "</table>\n",
       "</div>"
      ],
      "text/plain": [
       "        red    orange    yellow     green      blue\n",
       "1 -1.939544  1.360894  1.277437  1.933686 -0.699491\n",
       "2  1.201424 -0.233669 -0.768068 -0.168097 -0.731023\n",
       "3  1.138072 -0.277206  1.821640 -0.109756  0.258063\n",
       "4 -0.646091  0.846284  0.188196  0.123120  1.838854"
      ]
     },
     "execution_count": 3,
     "metadata": {},
     "output_type": "execute_result"
    }
   ],
   "source": [
    "df"
   ]
  },
  {
   "cell_type": "code",
   "execution_count": 4,
   "id": "1f8d134a-a1e8-41f4-b2df-14ec139d393a",
   "metadata": {},
   "outputs": [
    {
     "data": {
      "text/plain": [
       "1   -1.939544\n",
       "2    1.201424\n",
       "3    1.138072\n",
       "4   -0.646091\n",
       "Name: red, dtype: float64"
      ]
     },
     "execution_count": 4,
     "metadata": {},
     "output_type": "execute_result"
    }
   ],
   "source": [
    "df['red']"
   ]
  },
  {
   "cell_type": "code",
   "execution_count": 5,
   "id": "8708ecca-8cd6-4378-a00f-152fa57061ff",
   "metadata": {},
   "outputs": [
    {
     "data": {
      "text/plain": [
       "1    1.933686\n",
       "2   -0.168097\n",
       "3   -0.109756\n",
       "4    0.123120\n",
       "Name: green, dtype: float64"
      ]
     },
     "execution_count": 5,
     "metadata": {},
     "output_type": "execute_result"
    }
   ],
   "source": [
    "df['green']"
   ]
  },
  {
   "cell_type": "code",
   "execution_count": 6,
   "id": "f9e622de-671e-4202-9b60-df75f9b0f6ed",
   "metadata": {},
   "outputs": [
    {
     "data": {
      "text/plain": [
       "pandas.core.series.Series"
      ]
     },
     "execution_count": 6,
     "metadata": {},
     "output_type": "execute_result"
    }
   ],
   "source": [
    "type(df['green'])"
   ]
  },
  {
   "cell_type": "code",
   "execution_count": 7,
   "id": "b87adc70-4769-4b0e-a447-d3b923225a5a",
   "metadata": {},
   "outputs": [
    {
     "data": {
      "text/plain": [
       "pandas.core.frame.DataFrame"
      ]
     },
     "execution_count": 7,
     "metadata": {},
     "output_type": "execute_result"
    }
   ],
   "source": [
    "type(df)"
   ]
  },
  {
   "cell_type": "code",
   "execution_count": 8,
   "id": "61aaae88-5879-45b4-8f56-f78f93d9ba87",
   "metadata": {},
   "outputs": [
    {
     "data": {
      "text/html": [
       "<div>\n",
       "<style scoped>\n",
       "    .dataframe tbody tr th:only-of-type {\n",
       "        vertical-align: middle;\n",
       "    }\n",
       "\n",
       "    .dataframe tbody tr th {\n",
       "        vertical-align: top;\n",
       "    }\n",
       "\n",
       "    .dataframe thead th {\n",
       "        text-align: right;\n",
       "    }\n",
       "</style>\n",
       "<table border=\"1\" class=\"dataframe\">\n",
       "  <thead>\n",
       "    <tr style=\"text-align: right;\">\n",
       "      <th></th>\n",
       "      <th>orange</th>\n",
       "      <th>blue</th>\n",
       "    </tr>\n",
       "  </thead>\n",
       "  <tbody>\n",
       "    <tr>\n",
       "      <th>1</th>\n",
       "      <td>1.360894</td>\n",
       "      <td>-0.699491</td>\n",
       "    </tr>\n",
       "    <tr>\n",
       "      <th>2</th>\n",
       "      <td>-0.233669</td>\n",
       "      <td>-0.731023</td>\n",
       "    </tr>\n",
       "    <tr>\n",
       "      <th>3</th>\n",
       "      <td>-0.277206</td>\n",
       "      <td>0.258063</td>\n",
       "    </tr>\n",
       "    <tr>\n",
       "      <th>4</th>\n",
       "      <td>0.846284</td>\n",
       "      <td>1.838854</td>\n",
       "    </tr>\n",
       "  </tbody>\n",
       "</table>\n",
       "</div>"
      ],
      "text/plain": [
       "     orange      blue\n",
       "1  1.360894 -0.699491\n",
       "2 -0.233669 -0.731023\n",
       "3 -0.277206  0.258063\n",
       "4  0.846284  1.838854"
      ]
     },
     "execution_count": 8,
     "metadata": {},
     "output_type": "execute_result"
    }
   ],
   "source": [
    "df[ ['orange', 'blue'] ]"
   ]
  },
  {
   "cell_type": "code",
   "execution_count": 9,
   "id": "acda4b4d-fe2b-4425-8740-396f96db51b6",
   "metadata": {},
   "outputs": [],
   "source": [
    "df['indigo'] = df['blue']"
   ]
  },
  {
   "cell_type": "code",
   "execution_count": 10,
   "id": "533a3fa5-fea9-4c0f-8c2b-d29121420964",
   "metadata": {},
   "outputs": [
    {
     "data": {
      "text/html": [
       "<div>\n",
       "<style scoped>\n",
       "    .dataframe tbody tr th:only-of-type {\n",
       "        vertical-align: middle;\n",
       "    }\n",
       "\n",
       "    .dataframe tbody tr th {\n",
       "        vertical-align: top;\n",
       "    }\n",
       "\n",
       "    .dataframe thead th {\n",
       "        text-align: right;\n",
       "    }\n",
       "</style>\n",
       "<table border=\"1\" class=\"dataframe\">\n",
       "  <thead>\n",
       "    <tr style=\"text-align: right;\">\n",
       "      <th></th>\n",
       "      <th>red</th>\n",
       "      <th>orange</th>\n",
       "      <th>yellow</th>\n",
       "      <th>green</th>\n",
       "      <th>blue</th>\n",
       "      <th>indigo</th>\n",
       "    </tr>\n",
       "  </thead>\n",
       "  <tbody>\n",
       "    <tr>\n",
       "      <th>1</th>\n",
       "      <td>-1.939544</td>\n",
       "      <td>1.360894</td>\n",
       "      <td>1.277437</td>\n",
       "      <td>1.933686</td>\n",
       "      <td>-0.699491</td>\n",
       "      <td>-0.699491</td>\n",
       "    </tr>\n",
       "    <tr>\n",
       "      <th>2</th>\n",
       "      <td>1.201424</td>\n",
       "      <td>-0.233669</td>\n",
       "      <td>-0.768068</td>\n",
       "      <td>-0.168097</td>\n",
       "      <td>-0.731023</td>\n",
       "      <td>-0.731023</td>\n",
       "    </tr>\n",
       "    <tr>\n",
       "      <th>3</th>\n",
       "      <td>1.138072</td>\n",
       "      <td>-0.277206</td>\n",
       "      <td>1.821640</td>\n",
       "      <td>-0.109756</td>\n",
       "      <td>0.258063</td>\n",
       "      <td>0.258063</td>\n",
       "    </tr>\n",
       "    <tr>\n",
       "      <th>4</th>\n",
       "      <td>-0.646091</td>\n",
       "      <td>0.846284</td>\n",
       "      <td>0.188196</td>\n",
       "      <td>0.123120</td>\n",
       "      <td>1.838854</td>\n",
       "      <td>1.838854</td>\n",
       "    </tr>\n",
       "  </tbody>\n",
       "</table>\n",
       "</div>"
      ],
      "text/plain": [
       "        red    orange    yellow     green      blue    indigo\n",
       "1 -1.939544  1.360894  1.277437  1.933686 -0.699491 -0.699491\n",
       "2  1.201424 -0.233669 -0.768068 -0.168097 -0.731023 -0.731023\n",
       "3  1.138072 -0.277206  1.821640 -0.109756  0.258063  0.258063\n",
       "4 -0.646091  0.846284  0.188196  0.123120  1.838854  1.838854"
      ]
     },
     "execution_count": 10,
     "metadata": {},
     "output_type": "execute_result"
    }
   ],
   "source": [
    "df"
   ]
  },
  {
   "cell_type": "code",
   "execution_count": 11,
   "id": "42ed63e2-09e6-4367-9bb4-f6369423f058",
   "metadata": {},
   "outputs": [],
   "source": [
    "df['violet'] = df['blue'] + df['green']"
   ]
  },
  {
   "cell_type": "code",
   "execution_count": 12,
   "id": "c89134e9-2cee-4092-928a-ad4f5860ac79",
   "metadata": {},
   "outputs": [
    {
     "data": {
      "text/html": [
       "<div>\n",
       "<style scoped>\n",
       "    .dataframe tbody tr th:only-of-type {\n",
       "        vertical-align: middle;\n",
       "    }\n",
       "\n",
       "    .dataframe tbody tr th {\n",
       "        vertical-align: top;\n",
       "    }\n",
       "\n",
       "    .dataframe thead th {\n",
       "        text-align: right;\n",
       "    }\n",
       "</style>\n",
       "<table border=\"1\" class=\"dataframe\">\n",
       "  <thead>\n",
       "    <tr style=\"text-align: right;\">\n",
       "      <th></th>\n",
       "      <th>red</th>\n",
       "      <th>orange</th>\n",
       "      <th>yellow</th>\n",
       "      <th>green</th>\n",
       "      <th>blue</th>\n",
       "      <th>indigo</th>\n",
       "      <th>violet</th>\n",
       "    </tr>\n",
       "  </thead>\n",
       "  <tbody>\n",
       "    <tr>\n",
       "      <th>1</th>\n",
       "      <td>-1.939544</td>\n",
       "      <td>1.360894</td>\n",
       "      <td>1.277437</td>\n",
       "      <td>1.933686</td>\n",
       "      <td>-0.699491</td>\n",
       "      <td>-0.699491</td>\n",
       "      <td>1.234196</td>\n",
       "    </tr>\n",
       "    <tr>\n",
       "      <th>2</th>\n",
       "      <td>1.201424</td>\n",
       "      <td>-0.233669</td>\n",
       "      <td>-0.768068</td>\n",
       "      <td>-0.168097</td>\n",
       "      <td>-0.731023</td>\n",
       "      <td>-0.731023</td>\n",
       "      <td>-0.899121</td>\n",
       "    </tr>\n",
       "    <tr>\n",
       "      <th>3</th>\n",
       "      <td>1.138072</td>\n",
       "      <td>-0.277206</td>\n",
       "      <td>1.821640</td>\n",
       "      <td>-0.109756</td>\n",
       "      <td>0.258063</td>\n",
       "      <td>0.258063</td>\n",
       "      <td>0.148307</td>\n",
       "    </tr>\n",
       "    <tr>\n",
       "      <th>4</th>\n",
       "      <td>-0.646091</td>\n",
       "      <td>0.846284</td>\n",
       "      <td>0.188196</td>\n",
       "      <td>0.123120</td>\n",
       "      <td>1.838854</td>\n",
       "      <td>1.838854</td>\n",
       "      <td>1.961974</td>\n",
       "    </tr>\n",
       "  </tbody>\n",
       "</table>\n",
       "</div>"
      ],
      "text/plain": [
       "        red    orange    yellow     green      blue    indigo    violet\n",
       "1 -1.939544  1.360894  1.277437  1.933686 -0.699491 -0.699491  1.234196\n",
       "2  1.201424 -0.233669 -0.768068 -0.168097 -0.731023 -0.731023 -0.899121\n",
       "3  1.138072 -0.277206  1.821640 -0.109756  0.258063  0.258063  0.148307\n",
       "4 -0.646091  0.846284  0.188196  0.123120  1.838854  1.838854  1.961974"
      ]
     },
     "execution_count": 12,
     "metadata": {},
     "output_type": "execute_result"
    }
   ],
   "source": [
    "df"
   ]
  },
  {
   "cell_type": "code",
   "execution_count": 13,
   "id": "5a3499eb-543a-4725-bf86-d75e53888836",
   "metadata": {},
   "outputs": [
    {
     "data": {
      "text/plain": [
       "red       1.201424\n",
       "orange   -0.233669\n",
       "yellow   -0.768068\n",
       "green    -0.168097\n",
       "blue     -0.731023\n",
       "indigo   -0.731023\n",
       "violet   -0.899121\n",
       "Name: 2, dtype: float64"
      ]
     },
     "execution_count": 13,
     "metadata": {},
     "output_type": "execute_result"
    }
   ],
   "source": [
    "df.loc[2]"
   ]
  },
  {
   "cell_type": "code",
   "execution_count": 14,
   "id": "a378137c-256e-4fe2-88a0-8005b0beda88",
   "metadata": {},
   "outputs": [
    {
     "data": {
      "text/plain": [
       "red       1.201424\n",
       "orange   -0.233669\n",
       "yellow   -0.768068\n",
       "green    -0.168097\n",
       "blue     -0.731023\n",
       "indigo   -0.731023\n",
       "violet   -0.899121\n",
       "Name: 2, dtype: float64"
      ]
     },
     "execution_count": 14,
     "metadata": {},
     "output_type": "execute_result"
    }
   ],
   "source": [
    "df.iloc[1]"
   ]
  },
  {
   "cell_type": "code",
   "execution_count": 15,
   "id": "0d26a4ed-ec7d-40ad-96cd-3cc38c9ad364",
   "metadata": {},
   "outputs": [],
   "source": [
    "df.iloc[2] = df.iloc[1]"
   ]
  },
  {
   "cell_type": "code",
   "execution_count": 16,
   "id": "ebe4654f-204c-4e85-957c-13443b721344",
   "metadata": {},
   "outputs": [
    {
     "data": {
      "text/html": [
       "<div>\n",
       "<style scoped>\n",
       "    .dataframe tbody tr th:only-of-type {\n",
       "        vertical-align: middle;\n",
       "    }\n",
       "\n",
       "    .dataframe tbody tr th {\n",
       "        vertical-align: top;\n",
       "    }\n",
       "\n",
       "    .dataframe thead th {\n",
       "        text-align: right;\n",
       "    }\n",
       "</style>\n",
       "<table border=\"1\" class=\"dataframe\">\n",
       "  <thead>\n",
       "    <tr style=\"text-align: right;\">\n",
       "      <th></th>\n",
       "      <th>red</th>\n",
       "      <th>orange</th>\n",
       "      <th>yellow</th>\n",
       "      <th>green</th>\n",
       "      <th>blue</th>\n",
       "      <th>indigo</th>\n",
       "      <th>violet</th>\n",
       "    </tr>\n",
       "  </thead>\n",
       "  <tbody>\n",
       "    <tr>\n",
       "      <th>1</th>\n",
       "      <td>-1.939544</td>\n",
       "      <td>1.360894</td>\n",
       "      <td>1.277437</td>\n",
       "      <td>1.933686</td>\n",
       "      <td>-0.699491</td>\n",
       "      <td>-0.699491</td>\n",
       "      <td>1.234196</td>\n",
       "    </tr>\n",
       "    <tr>\n",
       "      <th>2</th>\n",
       "      <td>1.201424</td>\n",
       "      <td>-0.233669</td>\n",
       "      <td>-0.768068</td>\n",
       "      <td>-0.168097</td>\n",
       "      <td>-0.731023</td>\n",
       "      <td>-0.731023</td>\n",
       "      <td>-0.899121</td>\n",
       "    </tr>\n",
       "    <tr>\n",
       "      <th>3</th>\n",
       "      <td>1.201424</td>\n",
       "      <td>-0.233669</td>\n",
       "      <td>-0.768068</td>\n",
       "      <td>-0.168097</td>\n",
       "      <td>-0.731023</td>\n",
       "      <td>-0.731023</td>\n",
       "      <td>-0.899121</td>\n",
       "    </tr>\n",
       "    <tr>\n",
       "      <th>4</th>\n",
       "      <td>-0.646091</td>\n",
       "      <td>0.846284</td>\n",
       "      <td>0.188196</td>\n",
       "      <td>0.123120</td>\n",
       "      <td>1.838854</td>\n",
       "      <td>1.838854</td>\n",
       "      <td>1.961974</td>\n",
       "    </tr>\n",
       "  </tbody>\n",
       "</table>\n",
       "</div>"
      ],
      "text/plain": [
       "        red    orange    yellow     green      blue    indigo    violet\n",
       "1 -1.939544  1.360894  1.277437  1.933686 -0.699491 -0.699491  1.234196\n",
       "2  1.201424 -0.233669 -0.768068 -0.168097 -0.731023 -0.731023 -0.899121\n",
       "3  1.201424 -0.233669 -0.768068 -0.168097 -0.731023 -0.731023 -0.899121\n",
       "4 -0.646091  0.846284  0.188196  0.123120  1.838854  1.838854  1.961974"
      ]
     },
     "execution_count": 16,
     "metadata": {},
     "output_type": "execute_result"
    }
   ],
   "source": [
    "df"
   ]
  },
  {
   "cell_type": "code",
   "execution_count": 17,
   "id": "14ac030f-7634-4fee-9d37-b237cc953838",
   "metadata": {},
   "outputs": [
    {
     "data": {
      "text/plain": [
       "np.float64(0.8462841209794344)"
      ]
     },
     "execution_count": 17,
     "metadata": {},
     "output_type": "execute_result"
    }
   ],
   "source": [
    "df.loc[4, 'orange']"
   ]
  },
  {
   "cell_type": "code",
   "execution_count": 18,
   "id": "9a4f3686-f713-447b-bb83-426b80e475ae",
   "metadata": {},
   "outputs": [
    {
     "data": {
      "text/plain": [
       "1    1.360894\n",
       "2   -0.233669\n",
       "3   -0.233669\n",
       "4    0.846284\n",
       "Name: orange, dtype: float64"
      ]
     },
     "execution_count": 18,
     "metadata": {},
     "output_type": "execute_result"
    }
   ],
   "source": [
    "df.loc[:, 'orange']"
   ]
  },
  {
   "cell_type": "code",
   "execution_count": 19,
   "id": "029085b5-9250-4bc3-bdf0-96094f89498a",
   "metadata": {},
   "outputs": [
    {
     "data": {
      "text/plain": [
       "red      -0.646091\n",
       "orange    0.846284\n",
       "yellow    0.188196\n",
       "green     0.123120\n",
       "blue      1.838854\n",
       "indigo    1.838854\n",
       "violet    1.961974\n",
       "Name: 4, dtype: float64"
      ]
     },
     "execution_count": 19,
     "metadata": {},
     "output_type": "execute_result"
    }
   ],
   "source": [
    "df.loc[4, :]"
   ]
  },
  {
   "cell_type": "code",
   "execution_count": 20,
   "id": "c646245d-d1ed-4483-a422-636ce6d68fd2",
   "metadata": {},
   "outputs": [
    {
     "data": {
      "text/html": [
       "<div>\n",
       "<style scoped>\n",
       "    .dataframe tbody tr th:only-of-type {\n",
       "        vertical-align: middle;\n",
       "    }\n",
       "\n",
       "    .dataframe tbody tr th {\n",
       "        vertical-align: top;\n",
       "    }\n",
       "\n",
       "    .dataframe thead th {\n",
       "        text-align: right;\n",
       "    }\n",
       "</style>\n",
       "<table border=\"1\" class=\"dataframe\">\n",
       "  <thead>\n",
       "    <tr style=\"text-align: right;\">\n",
       "      <th></th>\n",
       "      <th>yellow</th>\n",
       "      <th>violet</th>\n",
       "    </tr>\n",
       "  </thead>\n",
       "  <tbody>\n",
       "    <tr>\n",
       "      <th>1</th>\n",
       "      <td>1.277437</td>\n",
       "      <td>1.234196</td>\n",
       "    </tr>\n",
       "    <tr>\n",
       "      <th>3</th>\n",
       "      <td>-0.768068</td>\n",
       "      <td>-0.899121</td>\n",
       "    </tr>\n",
       "  </tbody>\n",
       "</table>\n",
       "</div>"
      ],
      "text/plain": [
       "     yellow    violet\n",
       "1  1.277437  1.234196\n",
       "3 -0.768068 -0.899121"
      ]
     },
     "execution_count": 20,
     "metadata": {},
     "output_type": "execute_result"
    }
   ],
   "source": [
    "df.loc[ [1, 3], ['yellow', 'violet'] ]"
   ]
  },
  {
   "cell_type": "code",
   "execution_count": 21,
   "id": "37b603a4-d39a-4b7c-a8d9-e3f402bd595d",
   "metadata": {},
   "outputs": [
    {
     "data": {
      "text/html": [
       "<div>\n",
       "<style scoped>\n",
       "    .dataframe tbody tr th:only-of-type {\n",
       "        vertical-align: middle;\n",
       "    }\n",
       "\n",
       "    .dataframe tbody tr th {\n",
       "        vertical-align: top;\n",
       "    }\n",
       "\n",
       "    .dataframe thead th {\n",
       "        text-align: right;\n",
       "    }\n",
       "</style>\n",
       "<table border=\"1\" class=\"dataframe\">\n",
       "  <thead>\n",
       "    <tr style=\"text-align: right;\">\n",
       "      <th></th>\n",
       "      <th>red</th>\n",
       "      <th>orange</th>\n",
       "      <th>yellow</th>\n",
       "      <th>green</th>\n",
       "      <th>blue</th>\n",
       "      <th>indigo</th>\n",
       "      <th>violet</th>\n",
       "    </tr>\n",
       "  </thead>\n",
       "  <tbody>\n",
       "    <tr>\n",
       "      <th>1</th>\n",
       "      <td>-1.939544</td>\n",
       "      <td>1.360894</td>\n",
       "      <td>1.277437</td>\n",
       "      <td>1.933686</td>\n",
       "      <td>-0.699491</td>\n",
       "      <td>-0.699491</td>\n",
       "      <td>1.234196</td>\n",
       "    </tr>\n",
       "    <tr>\n",
       "      <th>2</th>\n",
       "      <td>1.201424</td>\n",
       "      <td>-0.233669</td>\n",
       "      <td>-0.768068</td>\n",
       "      <td>-0.168097</td>\n",
       "      <td>-0.731023</td>\n",
       "      <td>-0.731023</td>\n",
       "      <td>-0.899121</td>\n",
       "    </tr>\n",
       "    <tr>\n",
       "      <th>4</th>\n",
       "      <td>-0.646091</td>\n",
       "      <td>0.846284</td>\n",
       "      <td>0.188196</td>\n",
       "      <td>0.123120</td>\n",
       "      <td>1.838854</td>\n",
       "      <td>1.838854</td>\n",
       "      <td>1.961974</td>\n",
       "    </tr>\n",
       "  </tbody>\n",
       "</table>\n",
       "</div>"
      ],
      "text/plain": [
       "        red    orange    yellow     green      blue    indigo    violet\n",
       "1 -1.939544  1.360894  1.277437  1.933686 -0.699491 -0.699491  1.234196\n",
       "2  1.201424 -0.233669 -0.768068 -0.168097 -0.731023 -0.731023 -0.899121\n",
       "4 -0.646091  0.846284  0.188196  0.123120  1.838854  1.838854  1.961974"
      ]
     },
     "execution_count": 21,
     "metadata": {},
     "output_type": "execute_result"
    }
   ],
   "source": [
    "df.drop(3)"
   ]
  },
  {
   "cell_type": "code",
   "execution_count": 22,
   "id": "929e6414-f06a-4f7e-862a-2a644087ed5a",
   "metadata": {},
   "outputs": [
    {
     "data": {
      "text/html": [
       "<div>\n",
       "<style scoped>\n",
       "    .dataframe tbody tr th:only-of-type {\n",
       "        vertical-align: middle;\n",
       "    }\n",
       "\n",
       "    .dataframe tbody tr th {\n",
       "        vertical-align: top;\n",
       "    }\n",
       "\n",
       "    .dataframe thead th {\n",
       "        text-align: right;\n",
       "    }\n",
       "</style>\n",
       "<table border=\"1\" class=\"dataframe\">\n",
       "  <thead>\n",
       "    <tr style=\"text-align: right;\">\n",
       "      <th></th>\n",
       "      <th>red</th>\n",
       "      <th>orange</th>\n",
       "      <th>yellow</th>\n",
       "      <th>green</th>\n",
       "      <th>blue</th>\n",
       "      <th>indigo</th>\n",
       "      <th>violet</th>\n",
       "    </tr>\n",
       "  </thead>\n",
       "  <tbody>\n",
       "    <tr>\n",
       "      <th>1</th>\n",
       "      <td>-1.939544</td>\n",
       "      <td>1.360894</td>\n",
       "      <td>1.277437</td>\n",
       "      <td>1.933686</td>\n",
       "      <td>-0.699491</td>\n",
       "      <td>-0.699491</td>\n",
       "      <td>1.234196</td>\n",
       "    </tr>\n",
       "    <tr>\n",
       "      <th>2</th>\n",
       "      <td>1.201424</td>\n",
       "      <td>-0.233669</td>\n",
       "      <td>-0.768068</td>\n",
       "      <td>-0.168097</td>\n",
       "      <td>-0.731023</td>\n",
       "      <td>-0.731023</td>\n",
       "      <td>-0.899121</td>\n",
       "    </tr>\n",
       "    <tr>\n",
       "      <th>3</th>\n",
       "      <td>1.201424</td>\n",
       "      <td>-0.233669</td>\n",
       "      <td>-0.768068</td>\n",
       "      <td>-0.168097</td>\n",
       "      <td>-0.731023</td>\n",
       "      <td>-0.731023</td>\n",
       "      <td>-0.899121</td>\n",
       "    </tr>\n",
       "    <tr>\n",
       "      <th>4</th>\n",
       "      <td>-0.646091</td>\n",
       "      <td>0.846284</td>\n",
       "      <td>0.188196</td>\n",
       "      <td>0.123120</td>\n",
       "      <td>1.838854</td>\n",
       "      <td>1.838854</td>\n",
       "      <td>1.961974</td>\n",
       "    </tr>\n",
       "  </tbody>\n",
       "</table>\n",
       "</div>"
      ],
      "text/plain": [
       "        red    orange    yellow     green      blue    indigo    violet\n",
       "1 -1.939544  1.360894  1.277437  1.933686 -0.699491 -0.699491  1.234196\n",
       "2  1.201424 -0.233669 -0.768068 -0.168097 -0.731023 -0.731023 -0.899121\n",
       "3  1.201424 -0.233669 -0.768068 -0.168097 -0.731023 -0.731023 -0.899121\n",
       "4 -0.646091  0.846284  0.188196  0.123120  1.838854  1.838854  1.961974"
      ]
     },
     "execution_count": 22,
     "metadata": {},
     "output_type": "execute_result"
    }
   ],
   "source": [
    "df"
   ]
  },
  {
   "cell_type": "code",
   "execution_count": 23,
   "id": "19f70815-3abb-46f4-82e5-eedd1a19cd77",
   "metadata": {},
   "outputs": [],
   "source": [
    "df.drop(3, inplace=True)"
   ]
  },
  {
   "cell_type": "code",
   "execution_count": 24,
   "id": "1e9fa870-6f91-4acf-b175-94acae95cdc6",
   "metadata": {},
   "outputs": [
    {
     "data": {
      "text/html": [
       "<div>\n",
       "<style scoped>\n",
       "    .dataframe tbody tr th:only-of-type {\n",
       "        vertical-align: middle;\n",
       "    }\n",
       "\n",
       "    .dataframe tbody tr th {\n",
       "        vertical-align: top;\n",
       "    }\n",
       "\n",
       "    .dataframe thead th {\n",
       "        text-align: right;\n",
       "    }\n",
       "</style>\n",
       "<table border=\"1\" class=\"dataframe\">\n",
       "  <thead>\n",
       "    <tr style=\"text-align: right;\">\n",
       "      <th></th>\n",
       "      <th>red</th>\n",
       "      <th>orange</th>\n",
       "      <th>yellow</th>\n",
       "      <th>green</th>\n",
       "      <th>blue</th>\n",
       "      <th>indigo</th>\n",
       "      <th>violet</th>\n",
       "    </tr>\n",
       "  </thead>\n",
       "  <tbody>\n",
       "    <tr>\n",
       "      <th>1</th>\n",
       "      <td>-1.939544</td>\n",
       "      <td>1.360894</td>\n",
       "      <td>1.277437</td>\n",
       "      <td>1.933686</td>\n",
       "      <td>-0.699491</td>\n",
       "      <td>-0.699491</td>\n",
       "      <td>1.234196</td>\n",
       "    </tr>\n",
       "    <tr>\n",
       "      <th>2</th>\n",
       "      <td>1.201424</td>\n",
       "      <td>-0.233669</td>\n",
       "      <td>-0.768068</td>\n",
       "      <td>-0.168097</td>\n",
       "      <td>-0.731023</td>\n",
       "      <td>-0.731023</td>\n",
       "      <td>-0.899121</td>\n",
       "    </tr>\n",
       "    <tr>\n",
       "      <th>4</th>\n",
       "      <td>-0.646091</td>\n",
       "      <td>0.846284</td>\n",
       "      <td>0.188196</td>\n",
       "      <td>0.123120</td>\n",
       "      <td>1.838854</td>\n",
       "      <td>1.838854</td>\n",
       "      <td>1.961974</td>\n",
       "    </tr>\n",
       "  </tbody>\n",
       "</table>\n",
       "</div>"
      ],
      "text/plain": [
       "        red    orange    yellow     green      blue    indigo    violet\n",
       "1 -1.939544  1.360894  1.277437  1.933686 -0.699491 -0.699491  1.234196\n",
       "2  1.201424 -0.233669 -0.768068 -0.168097 -0.731023 -0.731023 -0.899121\n",
       "4 -0.646091  0.846284  0.188196  0.123120  1.838854  1.838854  1.961974"
      ]
     },
     "execution_count": 24,
     "metadata": {},
     "output_type": "execute_result"
    }
   ],
   "source": [
    "df"
   ]
  },
  {
   "cell_type": "code",
   "execution_count": null,
   "id": "08f90a29-e49e-409e-b52d-650ed9111944",
   "metadata": {},
   "outputs": [],
   "source": [
    "df.drop('indigo', axis)"
   ]
  }
 ],
 "metadata": {
  "kernelspec": {
   "display_name": "Python 3 (ipykernel)",
   "language": "python",
   "name": "python3"
  },
  "language_info": {
   "codemirror_mode": {
    "name": "ipython",
    "version": 3
   },
   "file_extension": ".py",
   "mimetype": "text/x-python",
   "name": "python",
   "nbconvert_exporter": "python",
   "pygments_lexer": "ipython3",
   "version": "3.11.1"
  }
 },
 "nbformat": 4,
 "nbformat_minor": 5
}
