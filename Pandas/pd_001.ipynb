{
 "cells": [
  {
   "cell_type": "code",
   "execution_count": 1,
   "id": "c19092d8-994b-4eba-9db3-6a8b6c5e193d",
   "metadata": {},
   "outputs": [],
   "source": [
    "import numpy as np\n",
    "import pandas as pd"
   ]
  },
  {
   "cell_type": "code",
   "execution_count": 2,
   "id": "875cfa55-4b28-4b2a-aa67-e15cc6139683",
   "metadata": {},
   "outputs": [],
   "source": [
    "letters = ['a', 'b', 'c']\n",
    "numbers = [1, 2, 3]\n",
    "arr = np.array(numbers)\n",
    "dict1 = {'a': 1, 'b': 2, 'c': 3}"
   ]
  },
  {
   "cell_type": "code",
   "execution_count": 3,
   "id": "743218b4-a64a-448e-9f1c-4534dbb12719",
   "metadata": {},
   "outputs": [
    {
     "data": {
      "text/plain": [
       "(['a', 'b', 'c'], array([1, 2, 3]), {'a': 1, 'b': 2, 'c': 3})"
      ]
     },
     "execution_count": 3,
     "metadata": {},
     "output_type": "execute_result"
    }
   ],
   "source": [
    "letters, arr, dict1"
   ]
  },
  {
   "cell_type": "code",
   "execution_count": 4,
   "id": "788640f5-17ad-4a19-8317-c5c6bfa5dd9e",
   "metadata": {},
   "outputs": [
    {
     "data": {
      "text/plain": [
       "0    1\n",
       "1    2\n",
       "2    3\n",
       "dtype: int64"
      ]
     },
     "execution_count": 4,
     "metadata": {},
     "output_type": "execute_result"
    }
   ],
   "source": [
    "pd.Series(data=numbers)"
   ]
  },
  {
   "cell_type": "code",
   "execution_count": 5,
   "id": "5be27002-9ec8-4b2d-a2af-5f152aa50f21",
   "metadata": {},
   "outputs": [
    {
     "data": {
      "text/plain": [
       "1    a\n",
       "2    b\n",
       "3    c\n",
       "dtype: object"
      ]
     },
     "execution_count": 5,
     "metadata": {},
     "output_type": "execute_result"
    }
   ],
   "source": [
    "pd.Series(data=letters, index=numbers)"
   ]
  },
  {
   "cell_type": "code",
   "execution_count": 6,
   "id": "8c10bd40-5e6b-434c-b959-7cbe99178284",
   "metadata": {},
   "outputs": [
    {
     "data": {
      "text/plain": [
       "a    1\n",
       "b    2\n",
       "c    3\n",
       "dtype: int64"
      ]
     },
     "execution_count": 6,
     "metadata": {},
     "output_type": "execute_result"
    }
   ],
   "source": [
    "pd.Series(numbers, letters)"
   ]
  },
  {
   "cell_type": "code",
   "execution_count": 7,
   "id": "bbb9ad5e-9546-45ab-8be9-3e11de8abc4f",
   "metadata": {},
   "outputs": [
    {
     "data": {
      "text/plain": [
       "0    1\n",
       "1    2\n",
       "2    3\n",
       "dtype: int64"
      ]
     },
     "execution_count": 7,
     "metadata": {},
     "output_type": "execute_result"
    }
   ],
   "source": [
    "pd.Series(arr)"
   ]
  },
  {
   "cell_type": "code",
   "execution_count": 8,
   "id": "c4508211-174a-4b36-b68d-c6553c09cc34",
   "metadata": {},
   "outputs": [
    {
     "data": {
      "text/plain": [
       "a    1\n",
       "b    2\n",
       "c    3\n",
       "dtype: int64"
      ]
     },
     "execution_count": 8,
     "metadata": {},
     "output_type": "execute_result"
    }
   ],
   "source": [
    "pd.Series(dict1)"
   ]
  },
  {
   "cell_type": "code",
   "execution_count": 9,
   "id": "05b30c87-5d5f-406b-a3d7-ffa12dea7561",
   "metadata": {},
   "outputs": [],
   "source": [
    "life_long_average = pd.Series([84.7, 84.5, 83.7], ['Hong Kong', 'Japan', 'Singapore'])"
   ]
  },
  {
   "cell_type": "code",
   "execution_count": 10,
   "id": "47f09c4f-77d8-4ff8-8f8f-ae9418300b31",
   "metadata": {},
   "outputs": [
    {
     "data": {
      "text/plain": [
       "Hong Kong    84.7\n",
       "Japan        84.5\n",
       "Singapore    83.7\n",
       "dtype: float64"
      ]
     },
     "execution_count": 10,
     "metadata": {},
     "output_type": "execute_result"
    }
   ],
   "source": [
    "life_long_average"
   ]
  },
  {
   "cell_type": "code",
   "execution_count": 11,
   "id": "7e2c5dba-badd-4804-bdd6-3bb30900b8d1",
   "metadata": {},
   "outputs": [
    {
     "data": {
      "text/plain": [
       "np.float64(84.5)"
      ]
     },
     "execution_count": 11,
     "metadata": {},
     "output_type": "execute_result"
    }
   ],
   "source": [
    "life_long_average['Japan']"
   ]
  },
  {
   "cell_type": "code",
   "execution_count": 12,
   "id": "7fdf0a08-a912-46f5-abab-fd8b9b26c291",
   "metadata": {},
   "outputs": [],
   "source": [
    "life_long_average1 = pd.Series([84.7, 84.5, 83.7], ['Hong Kong', 'Japan', 'Singapore'])"
   ]
  },
  {
   "cell_type": "code",
   "execution_count": 13,
   "id": "c41cccfe-447b-4091-9920-38704490f6e3",
   "metadata": {},
   "outputs": [
    {
     "data": {
      "text/plain": [
       "Hong Kong    169.4\n",
       "Japan        169.0\n",
       "Singapore    167.4\n",
       "dtype: float64"
      ]
     },
     "execution_count": 13,
     "metadata": {},
     "output_type": "execute_result"
    }
   ],
   "source": [
    "life_long_average + life_long_average1"
   ]
  },
  {
   "cell_type": "code",
   "execution_count": 14,
   "id": "138ddecb-773a-4ebd-9c2e-0b98a22f1260",
   "metadata": {},
   "outputs": [],
   "source": [
    "life_long_average2 = pd.Series([84.7, 84.5, 83.7], ['Ukraine', 'Japan', 'Singapore'])"
   ]
  },
  {
   "cell_type": "code",
   "execution_count": 15,
   "id": "a434ef52-0df4-4467-8ce2-1aa464389776",
   "metadata": {},
   "outputs": [
    {
     "data": {
      "text/plain": [
       "Hong Kong      NaN\n",
       "Japan        169.0\n",
       "Singapore    167.4\n",
       "Ukraine        NaN\n",
       "dtype: float64"
      ]
     },
     "execution_count": 15,
     "metadata": {},
     "output_type": "execute_result"
    }
   ],
   "source": [
    "life_long_average + life_long_average2"
   ]
  },
  {
   "cell_type": "code",
   "execution_count": null,
   "id": "37febbec-fa24-4b8f-a231-f5230b3d7492",
   "metadata": {},
   "outputs": [],
   "source": []
  }
 ],
 "metadata": {
  "kernelspec": {
   "display_name": "Python 3 (ipykernel)",
   "language": "python",
   "name": "python3"
  },
  "language_info": {
   "codemirror_mode": {
    "name": "ipython",
    "version": 3
   },
   "file_extension": ".py",
   "mimetype": "text/x-python",
   "name": "python",
   "nbconvert_exporter": "python",
   "pygments_lexer": "ipython3",
   "version": "3.11.1"
  }
 },
 "nbformat": 4,
 "nbformat_minor": 5
}
