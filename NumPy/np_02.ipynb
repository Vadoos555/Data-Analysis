{
 "cells": [
  {
   "cell_type": "code",
   "execution_count": 1,
   "id": "6833e945-af0c-42eb-888c-648184866f75",
   "metadata": {},
   "outputs": [],
   "source": [
    "import numpy as np"
   ]
  },
  {
   "cell_type": "code",
   "execution_count": 2,
   "id": "2ad12764-6131-4217-a8b4-cb379287df10",
   "metadata": {},
   "outputs": [],
   "source": [
    "a = np.array([1,2,3,4])"
   ]
  },
  {
   "cell_type": "code",
   "execution_count": 3,
   "id": "a796f6d9-0419-4d68-9a66-02bf11abc669",
   "metadata": {},
   "outputs": [
    {
     "data": {
      "text/plain": [
       "array([1, 2, 3, 4])"
      ]
     },
     "execution_count": 3,
     "metadata": {},
     "output_type": "execute_result"
    }
   ],
   "source": [
    "a"
   ]
  },
  {
   "cell_type": "code",
   "execution_count": 4,
   "id": "6f1b198a-93fd-46eb-9567-98f3fb98198a",
   "metadata": {},
   "outputs": [],
   "source": [
    "a = np.array([1,2,3,4], 'float64')"
   ]
  },
  {
   "cell_type": "code",
   "execution_count": 5,
   "id": "2c94240f-ac8b-4569-a443-fd00603105ed",
   "metadata": {},
   "outputs": [
    {
     "data": {
      "text/plain": [
       "array([1., 2., 3., 4.])"
      ]
     },
     "execution_count": 5,
     "metadata": {},
     "output_type": "execute_result"
    }
   ],
   "source": [
    "a"
   ]
  },
  {
   "cell_type": "code",
   "execution_count": 6,
   "id": "badb8366-f379-4426-b82e-3c89a9ee1737",
   "metadata": {},
   "outputs": [
    {
     "data": {
      "text/plain": [
       "{'bool': numpy.bool,\n",
       " 'float16': numpy.float16,\n",
       " 'float32': numpy.float32,\n",
       " 'float64': numpy.float64,\n",
       " 'longdouble': numpy.longdouble,\n",
       " 'complex64': numpy.complex64,\n",
       " 'complex128': numpy.complex128,\n",
       " 'clongdouble': numpy.clongdouble,\n",
       " 'bytes_': numpy.bytes_,\n",
       " 'str_': numpy.str_,\n",
       " 'void': numpy.void,\n",
       " 'object_': numpy.object_,\n",
       " 'datetime64': numpy.datetime64,\n",
       " 'timedelta64': numpy.timedelta64,\n",
       " 'int8': numpy.int8,\n",
       " 'byte': numpy.int8,\n",
       " 'uint8': numpy.uint8,\n",
       " 'ubyte': numpy.uint8,\n",
       " 'int16': numpy.int16,\n",
       " 'short': numpy.int16,\n",
       " 'uint16': numpy.uint16,\n",
       " 'ushort': numpy.uint16,\n",
       " 'intc': numpy.intc,\n",
       " 'uintc': numpy.uintc,\n",
       " 'int32': numpy.int32,\n",
       " 'long': numpy.int32,\n",
       " 'uint32': numpy.uint32,\n",
       " 'ulong': numpy.uint32,\n",
       " 'int64': numpy.int64,\n",
       " 'longlong': numpy.int64,\n",
       " 'uint64': numpy.uint64,\n",
       " 'ulonglong': numpy.uint64,\n",
       " 'intp': numpy.int64,\n",
       " 'uintp': numpy.uint64,\n",
       " 'double': numpy.float64,\n",
       " 'cdouble': numpy.complex128,\n",
       " 'single': numpy.float32,\n",
       " 'csingle': numpy.complex64,\n",
       " 'half': numpy.float16,\n",
       " 'bool_': numpy.bool,\n",
       " 'int_': numpy.int64,\n",
       " 'uint': numpy.uint64,\n",
       " 'float': numpy.float64,\n",
       " 'complex': numpy.complex128,\n",
       " 'object': numpy.object_,\n",
       " 'bytes': numpy.bytes_,\n",
       " 'a': numpy.bytes_,\n",
       " 'int': numpy.int64,\n",
       " 'str': numpy.str_,\n",
       " 'unicode': numpy.str_}"
      ]
     },
     "execution_count": 6,
     "metadata": {},
     "output_type": "execute_result"
    }
   ],
   "source": [
    "np.sctypeDict"
   ]
  },
  {
   "cell_type": "code",
   "execution_count": 7,
   "id": "8d50c277-c0ce-4c66-a478-93507aa79dcc",
   "metadata": {},
   "outputs": [],
   "source": [
    "a = np.array([1,2,3,4], 'str_')"
   ]
  },
  {
   "cell_type": "code",
   "execution_count": 8,
   "id": "b56aee53-9c2b-4b52-b53f-031e17417d76",
   "metadata": {},
   "outputs": [
    {
     "data": {
      "text/plain": [
       "array(['1', '2', '3', '4'], dtype='<U1')"
      ]
     },
     "execution_count": 8,
     "metadata": {},
     "output_type": "execute_result"
    }
   ],
   "source": [
    "a"
   ]
  },
  {
   "cell_type": "code",
   "execution_count": 9,
   "id": "f2562d2a-eab9-4b2b-bc5b-9cff38d949b7",
   "metadata": {},
   "outputs": [
    {
     "data": {
      "text/plain": [
       "np.complex64(10+0j)"
      ]
     },
     "execution_count": 9,
     "metadata": {},
     "output_type": "execute_result"
    }
   ],
   "source": [
    "np.complex64(10)"
   ]
  },
  {
   "cell_type": "code",
   "execution_count": 10,
   "id": "5ea86482-1821-452f-81c3-c583c1fd2137",
   "metadata": {},
   "outputs": [
    {
     "data": {
      "text/plain": [
       "np.int16(10)"
      ]
     },
     "execution_count": 10,
     "metadata": {},
     "output_type": "execute_result"
    }
   ],
   "source": [
    "np.int16(10.5)"
   ]
  },
  {
   "cell_type": "code",
   "execution_count": 11,
   "id": "52a9a763-4c35-4af4-9271-63f87dd29846",
   "metadata": {},
   "outputs": [
    {
     "ename": "OverflowError",
     "evalue": "Python integer 5000 out of bounds for int8",
     "output_type": "error",
     "traceback": [
      "\u001b[1;31m---------------------------------------------------------------------------\u001b[0m",
      "\u001b[1;31mOverflowError\u001b[0m                             Traceback (most recent call last)",
      "Cell \u001b[1;32mIn[11], line 1\u001b[0m\n\u001b[1;32m----> 1\u001b[0m a \u001b[38;5;241m=\u001b[39m \u001b[43mnp\u001b[49m\u001b[38;5;241;43m.\u001b[39;49m\u001b[43marray\u001b[49m\u001b[43m(\u001b[49m\u001b[43m[\u001b[49m\u001b[38;5;241;43m1\u001b[39;49m\u001b[43m,\u001b[49m\u001b[43m \u001b[49m\u001b[38;5;241;43m2\u001b[39;49m\u001b[43m,\u001b[49m\u001b[43m \u001b[49m\u001b[38;5;241;43m5000\u001b[39;49m\u001b[43m,\u001b[49m\u001b[43m \u001b[49m\u001b[38;5;241;43m1000\u001b[39;49m\u001b[43m]\u001b[49m\u001b[43m,\u001b[49m\u001b[43m \u001b[49m\u001b[43mdtype\u001b[49m\u001b[38;5;241;43m=\u001b[39;49m\u001b[38;5;124;43m'\u001b[39;49m\u001b[38;5;124;43mint8\u001b[39;49m\u001b[38;5;124;43m'\u001b[39;49m\u001b[43m)\u001b[49m\n",
      "\u001b[1;31mOverflowError\u001b[0m: Python integer 5000 out of bounds for int8"
     ]
    }
   ],
   "source": [
    "a = np.array([1, 2, 5000, 1000], dtype='int8')"
   ]
  },
  {
   "cell_type": "code",
   "execution_count": 12,
   "id": "cced38af-8804-4865-b675-fbb4caf69f0c",
   "metadata": {},
   "outputs": [
    {
     "data": {
      "text/plain": [
       "array(['1', '2', '3', '4'], dtype='<U1')"
      ]
     },
     "execution_count": 12,
     "metadata": {},
     "output_type": "execute_result"
    }
   ],
   "source": [
    "a"
   ]
  },
  {
   "cell_type": "code",
   "execution_count": 13,
   "id": "9222fb0d-6620-40f7-99e0-de86075d99ed",
   "metadata": {},
   "outputs": [],
   "source": [
    "a = np.array([1, 2, 5000, 1000], dtype='int32')"
   ]
  },
  {
   "cell_type": "code",
   "execution_count": 14,
   "id": "738a6d83-f399-4c80-b881-dcc75285b6b6",
   "metadata": {},
   "outputs": [
    {
     "data": {
      "text/plain": [
       "array([   1,    2, 5000, 1000], dtype=int32)"
      ]
     },
     "execution_count": 14,
     "metadata": {},
     "output_type": "execute_result"
    }
   ],
   "source": [
    "a"
   ]
  },
  {
   "cell_type": "code",
   "execution_count": 15,
   "id": "faf491e7-8b6e-4303-99c4-9c59f4339d9c",
   "metadata": {},
   "outputs": [
    {
     "data": {
      "text/plain": [
       "array([1.e+00+0.j, 2.e+00+0.j, 5.e+03+0.j, 1.e+03+0.j], dtype=complex64)"
      ]
     },
     "execution_count": 15,
     "metadata": {},
     "output_type": "execute_result"
    }
   ],
   "source": [
    "np.complex64(a)"
   ]
  },
  {
   "cell_type": "code",
   "execution_count": 16,
   "id": "8e97a679-7a6a-473b-8d0b-cc0c179d0c87",
   "metadata": {},
   "outputs": [],
   "source": [
    "b = np.complex64(a)"
   ]
  },
  {
   "cell_type": "code",
   "execution_count": 17,
   "id": "5fd70ef6-d4cc-4e56-86ff-7431b0dbb9af",
   "metadata": {},
   "outputs": [
    {
     "name": "stderr",
     "output_type": "stream",
     "text": [
      "C:\\Users\\User\\AppData\\Local\\Temp\\ipykernel_4964\\4084964917.py:1: ComplexWarning: Casting complex values to real discards the imaginary part\n",
      "  c = np.int32(b)\n"
     ]
    }
   ],
   "source": [
    "c = np.int32(b)"
   ]
  },
  {
   "cell_type": "code",
   "execution_count": 18,
   "id": "e893fbf3-cf28-419c-83f9-049668a2a688",
   "metadata": {},
   "outputs": [
    {
     "data": {
      "text/plain": [
       "array([   1,    2, 5000, 1000], dtype=int32)"
      ]
     },
     "execution_count": 18,
     "metadata": {},
     "output_type": "execute_result"
    }
   ],
   "source": [
    "c"
   ]
  },
  {
   "cell_type": "code",
   "execution_count": 19,
   "id": "448dee97-d73c-43fd-ac1d-42cab102537b",
   "metadata": {},
   "outputs": [
    {
     "data": {
      "text/plain": [
       "array([1, 2, 3])"
      ]
     },
     "execution_count": 19,
     "metadata": {},
     "output_type": "execute_result"
    }
   ],
   "source": [
    "np.array( (1,2,3) )"
   ]
  },
  {
   "cell_type": "code",
   "execution_count": 20,
   "id": "0eeef0b8-191b-4164-91de-95facf942189",
   "metadata": {},
   "outputs": [
    {
     "data": {
      "text/plain": [
       "array('Hello', dtype='<U5')"
      ]
     },
     "execution_count": 20,
     "metadata": {},
     "output_type": "execute_result"
    }
   ],
   "source": [
    "np.array( 'Hello' )"
   ]
  },
  {
   "cell_type": "code",
   "execution_count": 21,
   "id": "329b9e21-e453-4115-a445-a084e279d122",
   "metadata": {},
   "outputs": [],
   "source": [
    "a = np.array([[1, 2], [3, 4], [5, 6]])"
   ]
  },
  {
   "cell_type": "code",
   "execution_count": 22,
   "id": "c83d59b1-475b-4178-9cf9-f5345ec483fe",
   "metadata": {},
   "outputs": [
    {
     "data": {
      "text/plain": [
       "array([[1, 2],\n",
       "       [3, 4],\n",
       "       [5, 6]])"
      ]
     },
     "execution_count": 22,
     "metadata": {},
     "output_type": "execute_result"
    }
   ],
   "source": [
    "a"
   ]
  },
  {
   "cell_type": "code",
   "execution_count": 23,
   "id": "c595fa0f-54f2-4dcc-bc13-eb2a1dbbfaa5",
   "metadata": {},
   "outputs": [
    {
     "ename": "ValueError",
     "evalue": "setting an array element with a sequence. The requested array has an inhomogeneous shape after 1 dimensions. The detected shape was (3,) + inhomogeneous part.",
     "output_type": "error",
     "traceback": [
      "\u001b[1;31m---------------------------------------------------------------------------\u001b[0m",
      "\u001b[1;31mValueError\u001b[0m                                Traceback (most recent call last)",
      "Cell \u001b[1;32mIn[23], line 1\u001b[0m\n\u001b[1;32m----> 1\u001b[0m a \u001b[38;5;241m=\u001b[39m \u001b[43mnp\u001b[49m\u001b[38;5;241;43m.\u001b[39;49m\u001b[43marray\u001b[49m\u001b[43m(\u001b[49m\u001b[43m[\u001b[49m\u001b[43m[\u001b[49m\u001b[38;5;241;43m1\u001b[39;49m\u001b[43m,\u001b[49m\u001b[43m \u001b[49m\u001b[38;5;241;43m2\u001b[39;49m\u001b[43m]\u001b[49m\u001b[43m,\u001b[49m\u001b[43m \u001b[49m\u001b[43m[\u001b[49m\u001b[38;5;241;43m3\u001b[39;49m\u001b[43m,\u001b[49m\u001b[43m \u001b[49m\u001b[38;5;241;43m4\u001b[39;49m\u001b[43m]\u001b[49m\u001b[43m,\u001b[49m\u001b[43m \u001b[49m\u001b[43m[\u001b[49m\u001b[38;5;241;43m5\u001b[39;49m\u001b[43m,\u001b[49m\u001b[43m \u001b[49m\u001b[38;5;241;43m6\u001b[39;49m\u001b[43m,\u001b[49m\u001b[43m \u001b[49m\u001b[38;5;241;43m7\u001b[39;49m\u001b[43m]\u001b[49m\u001b[43m]\u001b[49m\u001b[43m)\u001b[49m\n",
      "\u001b[1;31mValueError\u001b[0m: setting an array element with a sequence. The requested array has an inhomogeneous shape after 1 dimensions. The detected shape was (3,) + inhomogeneous part."
     ]
    }
   ],
   "source": [
    "a = np.array([[1, 2], [3, 4], [5, 6, 7]])"
   ]
  },
  {
   "cell_type": "code",
   "execution_count": 24,
   "id": "d655955f-de6c-4c9d-bb61-619341c095ee",
   "metadata": {},
   "outputs": [],
   "source": [
    "b = np.array([[[1, 2], [3, 4]], [[5, 6], [7, 8]], [[9, 10], [11, 12]]])"
   ]
  },
  {
   "cell_type": "code",
   "execution_count": 25,
   "id": "5d30f5ba-2cb0-48a4-9142-5dfb597526aa",
   "metadata": {},
   "outputs": [
    {
     "data": {
      "text/plain": [
       "array([[[ 1,  2],\n",
       "        [ 3,  4]],\n",
       "\n",
       "       [[ 5,  6],\n",
       "        [ 7,  8]],\n",
       "\n",
       "       [[ 9, 10],\n",
       "        [11, 12]]])"
      ]
     },
     "execution_count": 25,
     "metadata": {},
     "output_type": "execute_result"
    }
   ],
   "source": [
    "b"
   ]
  },
  {
   "cell_type": "code",
   "execution_count": 26,
   "id": "3f81d3f7-8846-4e9f-882c-bdd70fe18e74",
   "metadata": {},
   "outputs": [
    {
     "data": {
      "text/plain": [
       "array([[1, 2],\n",
       "       [3, 4]])"
      ]
     },
     "execution_count": 26,
     "metadata": {},
     "output_type": "execute_result"
    }
   ],
   "source": [
    "b[0]"
   ]
  },
  {
   "cell_type": "code",
   "execution_count": 27,
   "id": "97d8d0f8-fa43-493c-ac85-320d23140ed6",
   "metadata": {},
   "outputs": [
    {
     "data": {
      "text/plain": [
       "array([[5, 6],\n",
       "       [7, 8]])"
      ]
     },
     "execution_count": 27,
     "metadata": {},
     "output_type": "execute_result"
    }
   ],
   "source": [
    "b[1]"
   ]
  },
  {
   "cell_type": "code",
   "execution_count": 28,
   "id": "127d0ce9-9c93-4dc0-abc6-99023cee9eb4",
   "metadata": {},
   "outputs": [
    {
     "data": {
      "text/plain": [
       "array([[ 9, 10],\n",
       "       [11, 12]])"
      ]
     },
     "execution_count": 28,
     "metadata": {},
     "output_type": "execute_result"
    }
   ],
   "source": [
    "b[2]"
   ]
  },
  {
   "cell_type": "code",
   "execution_count": 29,
   "id": "15158a4e-181e-4653-8db0-52b245e6c983",
   "metadata": {},
   "outputs": [
    {
     "data": {
      "text/plain": [
       "array([1, 2])"
      ]
     },
     "execution_count": 29,
     "metadata": {},
     "output_type": "execute_result"
    }
   ],
   "source": [
    "b[0, 0]"
   ]
  },
  {
   "cell_type": "code",
   "execution_count": null,
   "id": "064c90e9-fb27-4cba-b26b-30f53bd606f4",
   "metadata": {},
   "outputs": [],
   "source": [
    "b["
   ]
  }
 ],
 "metadata": {
  "kernelspec": {
   "display_name": "Python 3 (ipykernel)",
   "language": "python",
   "name": "python3"
  },
  "language_info": {
   "codemirror_mode": {
    "name": "ipython",
    "version": 3
   },
   "file_extension": ".py",
   "mimetype": "text/x-python",
   "name": "python",
   "nbconvert_exporter": "python",
   "pygments_lexer": "ipython3",
   "version": "3.11.1"
  }
 },
 "nbformat": 4,
 "nbformat_minor": 5
}
