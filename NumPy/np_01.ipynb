{
 "cells": [
  {
   "cell_type": "code",
   "execution_count": 1,
   "id": "1b70c1e2-852e-4661-b305-6da5dce4c255",
   "metadata": {},
   "outputs": [],
   "source": [
    "import numpy as np"
   ]
  },
  {
   "cell_type": "code",
   "execution_count": 2,
   "id": "8c249518-9d26-46ac-8206-2c6b0755a735",
   "metadata": {},
   "outputs": [],
   "source": [
    "a = np.array([1, 2, 3, 4])"
   ]
  },
  {
   "cell_type": "code",
   "execution_count": 3,
   "id": "ab69a7a6-f5a1-46e6-a125-11276c43afcc",
   "metadata": {},
   "outputs": [
    {
     "data": {
      "text/plain": [
       "array([1, 2, 3, 4])"
      ]
     },
     "execution_count": 3,
     "metadata": {},
     "output_type": "execute_result"
    }
   ],
   "source": [
    "a"
   ]
  },
  {
   "cell_type": "code",
   "execution_count": 4,
   "id": "fe8a3617-d9d1-442a-bd07-bea81f1938af",
   "metadata": {},
   "outputs": [
    {
     "data": {
      "text/plain": [
       "dtype('int64')"
      ]
     },
     "execution_count": 4,
     "metadata": {},
     "output_type": "execute_result"
    }
   ],
   "source": [
    "a.dtype"
   ]
  },
  {
   "cell_type": "code",
   "execution_count": 5,
   "id": "63023b56-c1c3-457d-8d7f-a91abbab0915",
   "metadata": {},
   "outputs": [],
   "source": [
    "b = np.array([1, 2, \"3\", True])"
   ]
  },
  {
   "cell_type": "code",
   "execution_count": 6,
   "id": "f61e24b1-eb06-4514-a94b-18dddb242316",
   "metadata": {},
   "outputs": [
    {
     "data": {
      "text/plain": [
       "array(['1', '2', '3', 'True'], dtype='<U21')"
      ]
     },
     "execution_count": 6,
     "metadata": {},
     "output_type": "execute_result"
    }
   ],
   "source": [
    "b"
   ]
  },
  {
   "cell_type": "code",
   "execution_count": 8,
   "id": "6252cda2-07cc-4f3a-a3be-0c1582a6388e",
   "metadata": {},
   "outputs": [
    {
     "data": {
      "text/plain": [
       "(np.int64(1), np.int64(3))"
      ]
     },
     "execution_count": 8,
     "metadata": {},
     "output_type": "execute_result"
    }
   ],
   "source": [
    "a[0], a[2]"
   ]
  },
  {
   "cell_type": "code",
   "execution_count": 9,
   "id": "5d115429-532a-4dfb-9067-48990a781609",
   "metadata": {},
   "outputs": [
    {
     "data": {
      "text/plain": [
       "np.str_('1')"
      ]
     },
     "execution_count": 9,
     "metadata": {},
     "output_type": "execute_result"
    }
   ],
   "source": [
    "b[0]"
   ]
  },
  {
   "cell_type": "code",
   "execution_count": 10,
   "id": "b26031e3-651e-43a1-afd3-cb9ff80760d0",
   "metadata": {},
   "outputs": [],
   "source": [
    "b[1] = '123'"
   ]
  },
  {
   "cell_type": "code",
   "execution_count": 11,
   "id": "9a4d2405-3e5d-4d4e-8c79-9f7fcc3d55df",
   "metadata": {},
   "outputs": [
    {
     "data": {
      "text/plain": [
       "array(['1', '123', '3', 'True'], dtype='<U21')"
      ]
     },
     "execution_count": 11,
     "metadata": {},
     "output_type": "execute_result"
    }
   ],
   "source": [
    "b"
   ]
  },
  {
   "cell_type": "code",
   "execution_count": 12,
   "id": "4e17d02b-c6b1-41cb-bcc4-8879a2cbfc01",
   "metadata": {},
   "outputs": [],
   "source": [
    "b[1] = 1234"
   ]
  },
  {
   "cell_type": "code",
   "execution_count": 13,
   "id": "be0bd1e5-88fa-4640-be95-5a41f2612ff5",
   "metadata": {},
   "outputs": [
    {
     "data": {
      "text/plain": [
       "array(['1', '1234', '3', 'True'], dtype='<U21')"
      ]
     },
     "execution_count": 13,
     "metadata": {},
     "output_type": "execute_result"
    }
   ],
   "source": [
    "b"
   ]
  },
  {
   "cell_type": "code",
   "execution_count": 14,
   "id": "d6d6cf4d-e5b5-4918-a74a-bc717b215d9f",
   "metadata": {},
   "outputs": [],
   "source": [
    "a = np.array([1, 2, 3, 4, 5, 6, 7, 8, 9])"
   ]
  },
  {
   "cell_type": "code",
   "execution_count": 15,
   "id": "9dfd5daa-b5e6-4888-9281-99aa805cc225",
   "metadata": {},
   "outputs": [
    {
     "data": {
      "text/plain": [
       "np.int64(4)"
      ]
     },
     "execution_count": 15,
     "metadata": {},
     "output_type": "execute_result"
    }
   ],
   "source": [
    "a[3]"
   ]
  },
  {
   "cell_type": "code",
   "execution_count": 16,
   "id": "ec731e74-9d40-4735-b99d-1ad5e9707ea5",
   "metadata": {},
   "outputs": [
    {
     "data": {
      "text/plain": [
       "array([2, 2, 2, 2, 2, 2, 2])"
      ]
     },
     "execution_count": 16,
     "metadata": {},
     "output_type": "execute_result"
    }
   ],
   "source": [
    "a[ [1,1,1,1,1,1,1] ]"
   ]
  },
  {
   "cell_type": "code",
   "execution_count": 17,
   "id": "970d7cca-6b8b-42fe-9f5a-dbcd2b13ec62",
   "metadata": {},
   "outputs": [
    {
     "data": {
      "text/plain": [
       "array([1, 2, 7, 8, 9])"
      ]
     },
     "execution_count": 17,
     "metadata": {},
     "output_type": "execute_result"
    }
   ],
   "source": [
    "a[ [True, True, False, False, False, False, True, True, True] ]"
   ]
  },
  {
   "cell_type": "code",
   "execution_count": 19,
   "id": "ccb8d1bd-0a85-4e28-af43-1286926641f6",
   "metadata": {},
   "outputs": [],
   "source": [
    "b = a.reshape(3, 3)"
   ]
  },
  {
   "cell_type": "code",
   "execution_count": 20,
   "id": "87980b9f-be52-47e5-8fd9-cefa5a44d3ff",
   "metadata": {},
   "outputs": [
    {
     "data": {
      "text/plain": [
       "array([[1, 2, 3],\n",
       "       [4, 5, 6],\n",
       "       [7, 8, 9]])"
      ]
     },
     "execution_count": 20,
     "metadata": {},
     "output_type": "execute_result"
    }
   ],
   "source": [
    "b"
   ]
  },
  {
   "cell_type": "code",
   "execution_count": 21,
   "id": "43ce817f-bd8b-45b3-9299-dc26c79f9c4b",
   "metadata": {},
   "outputs": [
    {
     "data": {
      "text/plain": [
       "np.int64(6)"
      ]
     },
     "execution_count": 21,
     "metadata": {},
     "output_type": "execute_result"
    }
   ],
   "source": [
    "b[1,2]"
   ]
  },
  {
   "cell_type": "code",
   "execution_count": null,
   "id": "7c61d9c9-1657-4de8-a504-a85a3f7d4c79",
   "metadata": {},
   "outputs": [],
   "source": []
  }
 ],
 "metadata": {
  "kernelspec": {
   "display_name": "Python 3 (ipykernel)",
   "language": "python",
   "name": "python3"
  },
  "language_info": {
   "codemirror_mode": {
    "name": "ipython",
    "version": 3
   },
   "file_extension": ".py",
   "mimetype": "text/x-python",
   "name": "python",
   "nbconvert_exporter": "python",
   "pygments_lexer": "ipython3",
   "version": "3.11.1"
  }
 },
 "nbformat": 4,
 "nbformat_minor": 5
}
